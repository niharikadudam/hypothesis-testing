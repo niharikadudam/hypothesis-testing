{
 "cells": [
  {
   "cell_type": "code",
   "execution_count": 1,
   "id": "3dcf6ad1-d647-4c4c-9700-63d0ab968f8f",
   "metadata": {},
   "outputs": [],
   "source": [
    "\n",
    "import math"
   ]
  },
  {
   "cell_type": "code",
   "execution_count": 2,
   "id": "070f1197-293c-4014-834b-7891d75693e3",
   "metadata": {},
   "outputs": [],
   "source": [
    "\n",
    "# Given data\n",
    "sample_mean = 3050  # Sample mean weekly cost\n",
    "x_mean = 600 # Mean number of units produced\n",
    "std_x = 25 # Standard deviation of units produced\n",
    "n = 25  # Sample size"
   ]
  },
  {
   "cell_type": "code",
   "execution_count": 3,
   "id": "1d6fd1b2-31f9-4931-a095-69e54f92ec65",
   "metadata": {},
   "outputs": [
    {
     "name": "stdout",
     "output_type": "stream",
     "text": [
      "theoretical mean: 4000\n",
      "sem: 25.0\n"
     ]
    }
   ],
   "source": [
    "theoretical_mean = 1000 + 5 * x_mean  # Substitute X = 600\n",
    "print(f\"theoretical mean: {theoretical_mean}\")\n",
    "\n",
    "# Standard error of the mean (SEM)\n",
    "sigma_w = 5 * std_x\n",
    "sem = sigma_w / math.sqrt(n)\n",
    "print(f\"sem: {sem}\")"
   ]
  },
  {
   "cell_type": "code",
   "execution_count": 4,
   "id": "d9af2598-1cfa-4717-a201-4b1e3b43c786",
   "metadata": {},
   "outputs": [
    {
     "name": "stdout",
     "output_type": "stream",
     "text": [
      "t_statistic: -38.0\n"
     ]
    }
   ],
   "source": [
    "# Calculate the test statistic (t)\n",
    "t_statistic = (sample_mean - theoretical_mean) / sem\n",
    "print(f\"t_statistic: {t_statistic}\")"
   ]
  },
  {
   "cell_type": "code",
   "execution_count": 8,
   "id": "f1565f90-0a5e-4d37-9467-65747a2b1377",
   "metadata": {},
   "outputs": [
    {
     "name": "stdout",
     "output_type": "stream",
     "text": [
      "critical_value: 1.7108820799094275\n"
     ]
    }
   ],
   "source": [
    "from scipy import stats\n",
    "critical_value = stats.t.ppf(0.95, 24) # One tailed test\n",
    "print(f\"critical_value: {critical_value}\")\n"
   ]
  },
  {
   "cell_type": "code",
   "execution_count": 9,
   "id": "51ef0139-3c0c-4b8f-bb5f-f87790dd9829",
   "metadata": {},
   "outputs": [
    {
     "name": "stdout",
     "output_type": "stream",
     "text": [
      "decision: Fail to reject the null hypothesis\n"
     ]
    }
   ],
   "source": [
    "# Compare the test statistic with the critical value.\n",
    "if t_statistic > critical_value:\n",
    "    decision = \"Reject the null hypothesis\"\n",
    "else:\n",
    "    decision = \"Fail to reject the null hypothesis\"\n",
    "print(f\"decision: {decision}\")"
   ]
  },
  {
   "cell_type": "code",
   "execution_count": 10,
   "id": "381559cd-18b5-4dde-bcd4-3247f1b7081e",
   "metadata": {},
   "outputs": [
    {
     "name": "stdout",
     "output_type": "stream",
     "text": [
      "\n",
      "Conclusion:\n",
      "There is not enough evidence to support the restaurant owners' claim that the weekly operating costs are higher than the model suggests.\n"
     ]
    }
   ],
   "source": [
    "print(\"\\nConclusion:\")\n",
    "if decision == \"Reject the null hypothesis\":\n",
    "    print(\"There is strong evidence to support the restaurant owners' claim that the weekly operating costs are higher than the model suggests.\")\n",
    "else:\n",
    "    print(\"There is not enough evidence to support the restaurant owners' claim that the weekly operating costs are higher than the model suggests.\")"
   ]
  },
  {
   "cell_type": "code",
   "execution_count": null,
   "id": "0194c4a6-b150-4502-a680-7bc08b3923ee",
   "metadata": {},
   "outputs": [],
   "source": []
  }
 ],
 "metadata": {
  "kernelspec": {
   "display_name": "Python 3 (ipykernel)",
   "language": "python",
   "name": "python3"
  },
  "language_info": {
   "codemirror_mode": {
    "name": "ipython",
    "version": 3
   },
   "file_extension": ".py",
   "mimetype": "text/x-python",
   "name": "python",
   "nbconvert_exporter": "python",
   "pygments_lexer": "ipython3",
   "version": "3.13.1"
  }
 },
 "nbformat": 4,
 "nbformat_minor": 5
}
